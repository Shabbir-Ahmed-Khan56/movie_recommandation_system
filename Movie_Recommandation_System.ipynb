{
 "cells": [
  {
   "cell_type": "code",
   "execution_count": 8,
   "id": "9f2aff58-50fe-44d3-80f0-34c37986c0e8",
   "metadata": {},
   "outputs": [],
   "source": [
    "import pandas as pd\n",
    "import numpy as np"
   ]
  },
  {
   "cell_type": "code",
   "execution_count": null,
   "id": "5a3af929-26b8-4cfc-af6c-1cdf84f32894",
   "metadata": {},
   "outputs": [],
   "source": [
    "movies = pd.read_csv('tmdb_5000_movies.csv')\n",
    "movies.head() "
   ]
  },
  {
   "cell_type": "code",
   "execution_count": null,
   "id": "2541bcbe-8f46-4736-8f2d-57775f1b050f",
   "metadata": {},
   "outputs": [],
   "source": [
    "movies.keywords[0]"
   ]
  },
  {
   "cell_type": "code",
   "execution_count": 11,
   "id": "607313ba-b195-49d0-a08f-6ea69aaba622",
   "metadata": {},
   "outputs": [],
   "source": [
    "credits = pd.read_csv('tmdb_5000_credits.csv')\n"
   ]
  },
  {
   "cell_type": "code",
   "execution_count": null,
   "id": "bcfba7f7-114d-4d8a-869e-1cb8a5c360aa",
   "metadata": {},
   "outputs": [],
   "source": [
    "credits.head(1)['cast'].values"
   ]
  },
  {
   "cell_type": "code",
   "execution_count": null,
   "id": "4a4a0627-12c5-44b1-a780-28d3da534933",
   "metadata": {},
   "outputs": [],
   "source": [
    "credits.iloc[0]"
   ]
  },
  {
   "cell_type": "code",
   "execution_count": null,
   "id": "e710f142-050f-4071-b7b9-880c1450ff66",
   "metadata": {},
   "outputs": [],
   "source": [
    "credits.head(1)['crew'].values"
   ]
  },
  {
   "cell_type": "code",
   "execution_count": 15,
   "id": "a7220da6-56dd-40fe-a4c2-07f204ae0304",
   "metadata": {},
   "outputs": [],
   "source": [
    "# merging data frames\n",
    "movies = movies.merge(credits, on='title')"
   ]
  },
  {
   "cell_type": "code",
   "execution_count": null,
   "id": "3677e0de-4f72-480f-8329-523f5c937c87",
   "metadata": {},
   "outputs": [],
   "source": [
    "movies.columns"
   ]
  },
  {
   "cell_type": "code",
   "execution_count": null,
   "id": "d913accd-6183-47c5-b90c-32dd5e4e6b09",
   "metadata": {},
   "outputs": [],
   "source": [
    "movies = movies[['movie_id','title','overview','genres','keywords', 'cast', 'crew']]\n",
    "movies.sample(10)"
   ]
  },
  {
   "cell_type": "markdown",
   "id": "e14e5450-e952-4cf5-826b-c0bb0dfcd992",
   "metadata": {},
   "source": [
    "## Preprocessing"
   ]
  },
  {
   "cell_type": "code",
   "execution_count": null,
   "id": "a2a750b6-bd09-42b2-9188-ce0dc5c85ea2",
   "metadata": {},
   "outputs": [],
   "source": [
    "movies.isnull().sum()"
   ]
  },
  {
   "cell_type": "code",
   "execution_count": 19,
   "id": "62409e12-45c9-4b11-b5cf-537edf2012a2",
   "metadata": {},
   "outputs": [],
   "source": [
    "movies.dropna(inplace=True)"
   ]
  },
  {
   "cell_type": "code",
   "execution_count": null,
   "id": "8dfe3d3d-8a77-4896-862a-d5b781a213fc",
   "metadata": {},
   "outputs": [],
   "source": [
    "movies.isna().sum()"
   ]
  },
  {
   "cell_type": "code",
   "execution_count": null,
   "id": "d4aaafc3-8e03-4bf0-9190-51196583c857",
   "metadata": {},
   "outputs": [],
   "source": [
    "movies.duplicated().sum()"
   ]
  },
  {
   "cell_type": "code",
   "execution_count": null,
   "id": "fbbafb38-00f4-4ba1-afd1-03d62c0e7cdc",
   "metadata": {},
   "outputs": [],
   "source": [
    "movies.iloc[0].genres"
   ]
  },
  {
   "cell_type": "code",
   "execution_count": 23,
   "id": "cf5d442e-6934-4435-8f65-a225127dbe31",
   "metadata": {},
   "outputs": [],
   "source": [
    "# need to get the values of the name key in list but it is in form of a string\n",
    "import ast"
   ]
  },
  {
   "cell_type": "code",
   "execution_count": 24,
   "id": "afae451b-5066-4f2a-abae-c469dc0831be",
   "metadata": {},
   "outputs": [],
   "source": [
    "def convert(obj):\n",
    "    L=[]\n",
    "    for i in ast.literal_eval(obj):\n",
    "        L.append(i['name'])\n",
    "    return L"
   ]
  },
  {
   "cell_type": "code",
   "execution_count": null,
   "id": "4305e482-8a4f-4527-8c2b-08803b2705eb",
   "metadata": {},
   "outputs": [],
   "source": [
    "# Test case\n",
    "convert('[{\"id\": 28, \"name\": \"Action\"}]')"
   ]
  },
  {
   "cell_type": "code",
   "execution_count": null,
   "id": "b25a3b95-8bd4-4e4c-913a-852a76deab56",
   "metadata": {},
   "outputs": [],
   "source": [
    "movies.genres = movies.genres.apply(convert)\n",
    "movies"
   ]
  },
  {
   "cell_type": "code",
   "execution_count": null,
   "id": "fda66ceb-2cea-43f2-944c-56a478f0d8a2",
   "metadata": {},
   "outputs": [],
   "source": [
    "movies.iloc[0].keywords"
   ]
  },
  {
   "cell_type": "code",
   "execution_count": null,
   "id": "85b41def-1445-43e4-bfc3-228c03e50af3",
   "metadata": {},
   "outputs": [],
   "source": [
    "movies['keywords'] = movies['keywords'].apply(convert)\n",
    "movies"
   ]
  },
  {
   "cell_type": "code",
   "execution_count": null,
   "id": "b7ecd060-04c5-46b3-a453-36c281e41748",
   "metadata": {},
   "outputs": [],
   "source": [
    "movies.iloc[0].cast"
   ]
  },
  {
   "cell_type": "code",
   "execution_count": 30,
   "id": "45e1f605-a8e1-4e4c-8556-908a03abeb90",
   "metadata": {},
   "outputs": [],
   "source": [
    "def convert_cast(obj):\n",
    "    L=[]\n",
    "    counter = 0\n",
    "    for i in ast.literal_eval(obj):\n",
    "        if counter != 3:\n",
    "            L.append(i['name'])\n",
    "            counter +=1\n",
    "        else:\n",
    "            break\n",
    "    return L"
   ]
  },
  {
   "cell_type": "code",
   "execution_count": null,
   "id": "3cd1338c-d8a8-42c0-9ebc-d95d1b32fc93",
   "metadata": {},
   "outputs": [],
   "source": [
    "# Top 3 cast\n",
    "movies['cast'] = movies['cast'].apply(convert_cast)\n",
    "movies['cast']"
   ]
  },
  {
   "cell_type": "code",
   "execution_count": null,
   "id": "f063342c-749d-4bb1-9bb5-40d29d109c28",
   "metadata": {},
   "outputs": [],
   "source": [
    "movies.iloc[0]"
   ]
  },
  {
   "cell_type": "code",
   "execution_count": null,
   "id": "ff8cdb35-517f-4608-b74c-1a5809d63fa2",
   "metadata": {},
   "outputs": [],
   "source": [
    "movies.iloc[0].crew"
   ]
  },
  {
   "cell_type": "code",
   "execution_count": 34,
   "id": "ae201ca8-ffbb-4614-9cac-20adb59e00a0",
   "metadata": {},
   "outputs": [],
   "source": [
    "def get_director(obj):\n",
    "    L = []\n",
    "    for i in ast.literal_eval(obj):\n",
    "        if i['job'] == 'Director':\n",
    "            L.append(i['name'])\n",
    "            break\n",
    "    return L"
   ]
  },
  {
   "cell_type": "code",
   "execution_count": null,
   "id": "572d6358-0025-4803-b91a-74c111dd26a6",
   "metadata": {},
   "outputs": [],
   "source": [
    "movies.crew = movies.crew.apply(get_director)\n",
    "movies.crew"
   ]
  },
  {
   "cell_type": "code",
   "execution_count": null,
   "id": "8bc6a7da-4b20-458b-a206-8df78176174d",
   "metadata": {},
   "outputs": [],
   "source": [
    "movies.head(1)"
   ]
  },
  {
   "cell_type": "code",
   "execution_count": null,
   "id": "31c6eafe-e186-48c6-a241-89e4d2edbe4a",
   "metadata": {},
   "outputs": [],
   "source": [
    "movies.overview"
   ]
  },
  {
   "cell_type": "code",
   "execution_count": 38,
   "id": "e86e07ec-07d3-4e8a-877d-30883fe006ee",
   "metadata": {},
   "outputs": [],
   "source": [
    "movies.overview = movies.overview.apply(lambda x:x.split())"
   ]
  },
  {
   "cell_type": "code",
   "execution_count": null,
   "id": "e3f5a7c7-3d14-477e-8e37-1c60cf075b0a",
   "metadata": {},
   "outputs": [],
   "source": [
    "movies.overview[0]"
   ]
  },
  {
   "cell_type": "code",
   "execution_count": null,
   "id": "ec943af5-c1ff-4eb9-9720-4a64f3da253d",
   "metadata": {},
   "outputs": [],
   "source": [
    "movies.head()"
   ]
  },
  {
   "cell_type": "code",
   "execution_count": 41,
   "id": "d8ef35b2-67b4-4033-94ad-c647b26b3054",
   "metadata": {},
   "outputs": [],
   "source": [
    "movies.genres = movies.genres.apply(lambda x:[i.replace(\" \",\"\") for i in x])\n",
    "movies.keywords = movies.keywords.apply(lambda x:[i.replace(\" \",\"\") for i in x])\n",
    "movies.cast = movies.cast.apply(lambda x:[i.replace(\" \",\"\") for i in x])\n",
    "movies.crew = movies.crew.apply(lambda x:[i.replace(\" \",\"\") for i in x])"
   ]
  },
  {
   "cell_type": "code",
   "execution_count": null,
   "id": "93336180-dfab-42ca-9855-bd6a6a4d4129",
   "metadata": {},
   "outputs": [],
   "source": [
    "movies.head()"
   ]
  },
  {
   "cell_type": "code",
   "execution_count": null,
   "id": "11d9fd00-42fb-4e91-b8f1-7fbfc2d4e0ae",
   "metadata": {},
   "outputs": [],
   "source": [
    "movies['tags'] = movies.overview+movies.genres+movies.keywords+movies.cast+movies.crew\n",
    "print(movies.iloc[0].tags)"
   ]
  },
  {
   "cell_type": "code",
   "execution_count": null,
   "id": "7ee52f25-4193-4254-afa2-38d41c18a559",
   "metadata": {},
   "outputs": [],
   "source": [
    "movies.columns"
   ]
  },
  {
   "cell_type": "code",
   "execution_count": null,
   "id": "802a3985-6dc2-46f4-be95-3b0fbec73d6d",
   "metadata": {},
   "outputs": [],
   "source": [
    "new_df = movies[['movie_id','title','tags']]\n",
    "new_df"
   ]
  },
  {
   "cell_type": "code",
   "execution_count": null,
   "id": "dcf7c59c-b1ff-4fcb-b7ab-8f762f7de762",
   "metadata": {},
   "outputs": [],
   "source": [
    "new_df['tags'] = new_df['tags'].apply(lambda x:\" \".join(x))\n",
    "new_df"
   ]
  },
  {
   "cell_type": "code",
   "execution_count": null,
   "id": "818cb015-1495-4d00-bfd6-f66b0159cd22",
   "metadata": {},
   "outputs": [],
   "source": [
    "new_df.iloc[0].tags"
   ]
  },
  {
   "cell_type": "code",
   "execution_count": null,
   "id": "fdb73bce-6cb1-4818-ac4a-13f6acc2b6a8",
   "metadata": {},
   "outputs": [],
   "source": [
    "new_df.tags = new_df.tags.apply(lambda x:x.lower())"
   ]
  },
  {
   "cell_type": "code",
   "execution_count": null,
   "id": "fba2df17-da9b-4162-80f2-04c587a9a077",
   "metadata": {},
   "outputs": [],
   "source": [
    "new_df.tags[0]"
   ]
  },
  {
   "cell_type": "code",
   "execution_count": null,
   "id": "75cf1272-15e1-45a1-9784-c9e0018a795c",
   "metadata": {},
   "outputs": [],
   "source": [
    "new_df"
   ]
  },
  {
   "cell_type": "markdown",
   "id": "2b0d6778-2616-4f08-9c82-2e7ca40f88c0",
   "metadata": {},
   "source": [
    "## Vectorization"
   ]
  },
  {
   "cell_type": "code",
   "execution_count": 51,
   "id": "3ddda170-f563-492b-88a7-ffc41f1325fc",
   "metadata": {},
   "outputs": [],
   "source": [
    "# Bag of words\n",
    "from sklearn.feature_extraction.text import CountVectorizer\n",
    "cv = CountVectorizer(max_features=5000,stop_words='english',binary=True)"
   ]
  },
  {
   "cell_type": "code",
   "execution_count": null,
   "id": "6ccddf51-2433-477b-860c-01fbbecf9658",
   "metadata": {},
   "outputs": [],
   "source": [
    "vectors = cv.fit_transform(new_df['tags']).toarray()\n",
    "vectors.shape"
   ]
  },
  {
   "cell_type": "code",
   "execution_count": null,
   "id": "6464b278-ea95-4fa0-bcf1-6800c2f717ef",
   "metadata": {},
   "outputs": [],
   "source": [
    "vectors[0].sum()"
   ]
  },
  {
   "cell_type": "code",
   "execution_count": null,
   "id": "64965dcb-4c4e-4f8f-aaf9-3ae23fb7e62f",
   "metadata": {},
   "outputs": [],
   "source": [
    "cv.get_feature_names_out()"
   ]
  },
  {
   "cell_type": "markdown",
   "id": "42ced61a-d6b4-4fad-937c-3c137608d050",
   "metadata": {},
   "source": [
    "## Stemming"
   ]
  },
  {
   "cell_type": "code",
   "execution_count": null,
   "id": "4c95929f-e7b4-4e2e-9289-9e7b6e5d3b99",
   "metadata": {},
   "outputs": [],
   "source": [
    "import nltk\n",
    "from nltk.corpus import stopwords\n",
    "\n",
    "stopwords.words('english')\n"
   ]
  },
  {
   "cell_type": "code",
   "execution_count": 57,
   "id": "9163ceba-21e6-452b-853e-7d8fdd268080",
   "metadata": {},
   "outputs": [],
   "source": [
    "import nltk"
   ]
  },
  {
   "cell_type": "code",
   "execution_count": 58,
   "id": "b2660e80-0a15-4c10-8fc0-3a6fa3f27f07",
   "metadata": {},
   "outputs": [],
   "source": [
    "from nltk.stem.porter import PorterStemmer\n",
    "ps = PorterStemmer()"
   ]
  },
  {
   "cell_type": "code",
   "execution_count": null,
   "id": "1b69c943-17d2-4ff0-8f62-0d4672d5a2e7",
   "metadata": {},
   "outputs": [],
   "source": [
    "new_df['tags'][0]"
   ]
  },
  {
   "cell_type": "code",
   "execution_count": 60,
   "id": "329a33fe-af6b-4be8-b799-69b942324358",
   "metadata": {},
   "outputs": [],
   "source": [
    "def stem(text):\n",
    "    y = []\n",
    "    for i in text.split():\n",
    "        y.append(ps.stem(i))\n",
    "    return \" \".join(y)"
   ]
  },
  {
   "cell_type": "code",
   "execution_count": null,
   "id": "bc587e2c-51c5-4f0b-9dfd-17b8227beb37",
   "metadata": {},
   "outputs": [],
   "source": [
    "# stem test case\n",
    "stem('in the 22nd century, a paraplegic marine is')"
   ]
  },
  {
   "cell_type": "code",
   "execution_count": null,
   "id": "04121a57-5cac-4c3c-b433-25da586a18d3",
   "metadata": {},
   "outputs": [],
   "source": [
    "new_df['tags'] = new_df['tags'].apply(stem)\n",
    "new_df['tags'][0]"
   ]
  },
  {
   "cell_type": "markdown",
   "id": "8887966b-bdbe-4bfb-bea4-2d55dd7c625d",
   "metadata": {},
   "source": [
    "## Similarity Check"
   ]
  },
  {
   "cell_type": "code",
   "execution_count": 63,
   "id": "848cc2af-ff61-4601-9405-63fdf55d6ef1",
   "metadata": {},
   "outputs": [],
   "source": [
    "from sklearn.metrics.pairwise import cosine_similarity"
   ]
  },
  {
   "cell_type": "code",
   "execution_count": null,
   "id": "49989c48-0c25-4f5d-8535-740c2e0d66de",
   "metadata": {},
   "outputs": [],
   "source": [
    "similarity = cosine_similarity(vectors)\n",
    "similarity.shape"
   ]
  },
  {
   "cell_type": "code",
   "execution_count": null,
   "id": "054b4785-dd2c-4da4-8063-f7e689369cb8",
   "metadata": {},
   "outputs": [],
   "source": [
    "# need to get top 5 hight similarity scores we can sort in descending order\n",
    "\n",
    "sorted(similarity[0],reverse = True)\n",
    "\n",
    "# this will be sort the series but index position will also moved we will not only sort but also generate new indices using enemurate"
   ]
  },
  {
   "cell_type": "code",
   "execution_count": null,
   "id": "b45da952-6e6c-4992-ac18-e86dac1d6427",
   "metadata": {},
   "outputs": [],
   "source": [
    "# this will sort in new indices\n",
    "# sorted(list(enumerate(similarity[0])))\n",
    "# this will held the indices also\n",
    "sorted(list(enumerate(similarity[0])),reverse=True, key= lambda x: x[1])[1:10]"
   ]
  },
  {
   "cell_type": "code",
   "execution_count": null,
   "id": "9dfa585d-191c-404f-92c4-84c38508d535",
   "metadata": {},
   "outputs": [],
   "source": [
    "# getting index of any movie\n",
    "new_df[new_df['title']=='Life of Pi'].index[0]"
   ]
  },
  {
   "cell_type": "code",
   "execution_count": null,
   "id": "5ebbdcd2-6236-4233-825f-4307377b34c3",
   "metadata": {},
   "outputs": [],
   "source": [
    "# getting title of any movie using index\n",
    "new_df.loc[216,'title']"
   ]
  },
  {
   "cell_type": "code",
   "execution_count": 70,
   "id": "a44e24a6-8d34-450d-b2e2-1010a3620e6c",
   "metadata": {},
   "outputs": [],
   "source": [
    "def recommend(movie):\n",
    "    movie_index = new_df[new_df['title']==movie].index[0]\n",
    "    distances = similarity[movie_index]\n",
    "    movie_list = sorted(list(enumerate(distances)),reverse=True, key= lambda x: x[1])[1:6]\n",
    "    for i in movie_list:\n",
    "        print(new_df.iloc[i[0]]['title'])\n",
    "     "
   ]
  },
  {
   "cell_type": "code",
   "execution_count": null,
   "id": "aa7557d3-14b0-44a0-bded-9de09286d39c",
   "metadata": {},
   "outputs": [],
   "source": [
    "recommend('The Dark Knight Rises')"
   ]
  },
  {
   "cell_type": "code",
   "execution_count": null,
   "id": "213810ab-8f8d-4875-ad78-d09b4f9f32e0",
   "metadata": {},
   "outputs": [],
   "source": [
    "recommend('Fight Club')"
   ]
  },
  {
   "cell_type": "code",
   "execution_count": null,
   "id": "7db47a7f-078b-4ef1-801d-adf6bfc8e8f5",
   "metadata": {},
   "outputs": [],
   "source": [
    "recommend('Forrest Gump')"
   ]
  },
  {
   "cell_type": "code",
   "execution_count": null,
   "id": "53d11fe5-dec8-457b-9dce-18f5b04e78aa",
   "metadata": {},
   "outputs": [],
   "source": [
    "recommend('Good Will Hunting')"
   ]
  }
 ],
 "metadata": {
  "kernelspec": {
   "display_name": "Python 3 (ipykernel)",
   "language": "python",
   "name": "python3"
  },
  "language_info": {
   "codemirror_mode": {
    "name": "ipython",
    "version": 3
   },
   "file_extension": ".py",
   "mimetype": "text/x-python",
   "name": "python",
   "nbconvert_exporter": "python",
   "pygments_lexer": "ipython3",
   "version": "3.13.0"
  }
 },
 "nbformat": 4,
 "nbformat_minor": 5
}
